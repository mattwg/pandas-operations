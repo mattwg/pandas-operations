{
 "cells": [
  {
   "cell_type": "markdown",
   "metadata": {},
   "source": [
    "# Basic data frame operations - with dplyr equivalents!\n",
    "\n",
    "First we need some data - here I load the classic flights data from R!\n",
    "\n",
    "There are some important things to bear in mind when using Pandas dataframes - especially if you are familiar with R dataframes.  In particular:\n",
    "\n",
    "* Pandas data frames are wrappers around a Numpy matrix.  \n",
    "* Pandas data frames add row and column metadata (attributes) to the Numpy matrix\n",
    "* A Pandas data frame is a collection of Pandas Sequence (`Seq`) objects\n",
    "\n"
   ]
  },
  {
   "cell_type": "code",
   "execution_count": 261,
   "metadata": {
    "collapsed": false
   },
   "outputs": [],
   "source": [
    "import pandas as pd;\n",
    "import matplotlib.pyplot as plt\n",
    "import seaborn; seaborn.set()\n",
    "%matplotlib inline"
   ]
  },
  {
   "cell_type": "code",
   "execution_count": 227,
   "metadata": {
    "collapsed": false
   },
   "outputs": [
    {
     "data": {
      "text/html": [
       "<div>\n",
       "<table border=\"1\" class=\"dataframe\">\n",
       "  <thead>\n",
       "    <tr style=\"text-align: right;\">\n",
       "      <th></th>\n",
       "      <th>year</th>\n",
       "      <th>month</th>\n",
       "      <th>day</th>\n",
       "      <th>dep_time</th>\n",
       "      <th>dep_delay</th>\n",
       "      <th>arr_time</th>\n",
       "      <th>arr_delay</th>\n",
       "      <th>flight</th>\n",
       "      <th>air_time</th>\n",
       "      <th>distance</th>\n",
       "      <th>hour</th>\n",
       "      <th>minute</th>\n",
       "    </tr>\n",
       "  </thead>\n",
       "  <tbody>\n",
       "    <tr>\n",
       "      <th>count</th>\n",
       "      <td>336776</td>\n",
       "      <td>336776.000000</td>\n",
       "      <td>336776.000000</td>\n",
       "      <td>328521.000000</td>\n",
       "      <td>328521.000000</td>\n",
       "      <td>328063.000000</td>\n",
       "      <td>327346.000000</td>\n",
       "      <td>336776.000000</td>\n",
       "      <td>327346.000000</td>\n",
       "      <td>336776.000000</td>\n",
       "      <td>328521.000000</td>\n",
       "      <td>328521.000000</td>\n",
       "    </tr>\n",
       "    <tr>\n",
       "      <th>mean</th>\n",
       "      <td>2013</td>\n",
       "      <td>6.548510</td>\n",
       "      <td>15.710787</td>\n",
       "      <td>1349.109947</td>\n",
       "      <td>12.639070</td>\n",
       "      <td>1502.054999</td>\n",
       "      <td>6.895377</td>\n",
       "      <td>1971.923620</td>\n",
       "      <td>150.686460</td>\n",
       "      <td>1039.912604</td>\n",
       "      <td>13.173544</td>\n",
       "      <td>31.755501</td>\n",
       "    </tr>\n",
       "    <tr>\n",
       "      <th>std</th>\n",
       "      <td>0</td>\n",
       "      <td>3.414457</td>\n",
       "      <td>8.768607</td>\n",
       "      <td>488.281791</td>\n",
       "      <td>40.210061</td>\n",
       "      <td>533.264132</td>\n",
       "      <td>44.633292</td>\n",
       "      <td>1632.471938</td>\n",
       "      <td>93.688305</td>\n",
       "      <td>733.233033</td>\n",
       "      <td>4.894426</td>\n",
       "      <td>18.230997</td>\n",
       "    </tr>\n",
       "    <tr>\n",
       "      <th>min</th>\n",
       "      <td>2013</td>\n",
       "      <td>1.000000</td>\n",
       "      <td>1.000000</td>\n",
       "      <td>1.000000</td>\n",
       "      <td>-43.000000</td>\n",
       "      <td>1.000000</td>\n",
       "      <td>-86.000000</td>\n",
       "      <td>1.000000</td>\n",
       "      <td>20.000000</td>\n",
       "      <td>17.000000</td>\n",
       "      <td>0.000000</td>\n",
       "      <td>0.000000</td>\n",
       "    </tr>\n",
       "    <tr>\n",
       "      <th>25%</th>\n",
       "      <td>2013</td>\n",
       "      <td>4.000000</td>\n",
       "      <td>8.000000</td>\n",
       "      <td>907.000000</td>\n",
       "      <td>-5.000000</td>\n",
       "      <td>1104.000000</td>\n",
       "      <td>-17.000000</td>\n",
       "      <td>553.000000</td>\n",
       "      <td>82.000000</td>\n",
       "      <td>502.000000</td>\n",
       "      <td>9.000000</td>\n",
       "      <td>16.000000</td>\n",
       "    </tr>\n",
       "    <tr>\n",
       "      <th>50%</th>\n",
       "      <td>2013</td>\n",
       "      <td>7.000000</td>\n",
       "      <td>16.000000</td>\n",
       "      <td>1401.000000</td>\n",
       "      <td>-2.000000</td>\n",
       "      <td>1535.000000</td>\n",
       "      <td>-5.000000</td>\n",
       "      <td>1496.000000</td>\n",
       "      <td>129.000000</td>\n",
       "      <td>872.000000</td>\n",
       "      <td>14.000000</td>\n",
       "      <td>31.000000</td>\n",
       "    </tr>\n",
       "    <tr>\n",
       "      <th>75%</th>\n",
       "      <td>2013</td>\n",
       "      <td>10.000000</td>\n",
       "      <td>23.000000</td>\n",
       "      <td>1744.000000</td>\n",
       "      <td>11.000000</td>\n",
       "      <td>1940.000000</td>\n",
       "      <td>14.000000</td>\n",
       "      <td>3465.000000</td>\n",
       "      <td>192.000000</td>\n",
       "      <td>1389.000000</td>\n",
       "      <td>17.000000</td>\n",
       "      <td>49.000000</td>\n",
       "    </tr>\n",
       "    <tr>\n",
       "      <th>max</th>\n",
       "      <td>2013</td>\n",
       "      <td>12.000000</td>\n",
       "      <td>31.000000</td>\n",
       "      <td>2400.000000</td>\n",
       "      <td>1301.000000</td>\n",
       "      <td>2400.000000</td>\n",
       "      <td>1272.000000</td>\n",
       "      <td>8500.000000</td>\n",
       "      <td>695.000000</td>\n",
       "      <td>4983.000000</td>\n",
       "      <td>24.000000</td>\n",
       "      <td>59.000000</td>\n",
       "    </tr>\n",
       "  </tbody>\n",
       "</table>\n",
       "</div>"
      ],
      "text/plain": [
       "         year          month            day       dep_time      dep_delay  \\\n",
       "count  336776  336776.000000  336776.000000  328521.000000  328521.000000   \n",
       "mean     2013       6.548510      15.710787    1349.109947      12.639070   \n",
       "std         0       3.414457       8.768607     488.281791      40.210061   \n",
       "min      2013       1.000000       1.000000       1.000000     -43.000000   \n",
       "25%      2013       4.000000       8.000000     907.000000      -5.000000   \n",
       "50%      2013       7.000000      16.000000    1401.000000      -2.000000   \n",
       "75%      2013      10.000000      23.000000    1744.000000      11.000000   \n",
       "max      2013      12.000000      31.000000    2400.000000    1301.000000   \n",
       "\n",
       "            arr_time      arr_delay         flight       air_time  \\\n",
       "count  328063.000000  327346.000000  336776.000000  327346.000000   \n",
       "mean     1502.054999       6.895377    1971.923620     150.686460   \n",
       "std       533.264132      44.633292    1632.471938      93.688305   \n",
       "min         1.000000     -86.000000       1.000000      20.000000   \n",
       "25%      1104.000000     -17.000000     553.000000      82.000000   \n",
       "50%      1535.000000      -5.000000    1496.000000     129.000000   \n",
       "75%      1940.000000      14.000000    3465.000000     192.000000   \n",
       "max      2400.000000    1272.000000    8500.000000     695.000000   \n",
       "\n",
       "            distance           hour         minute  \n",
       "count  336776.000000  328521.000000  328521.000000  \n",
       "mean     1039.912604      13.173544      31.755501  \n",
       "std       733.233033       4.894426      18.230997  \n",
       "min        17.000000       0.000000       0.000000  \n",
       "25%       502.000000       9.000000      16.000000  \n",
       "50%       872.000000      14.000000      31.000000  \n",
       "75%      1389.000000      17.000000      49.000000  \n",
       "max      4983.000000      24.000000      59.000000  "
      ]
     },
     "execution_count": 227,
     "metadata": {},
     "output_type": "execute_result"
    }
   ],
   "source": [
    "df = pd.read_csv('flights.csv')\n",
    "df.describe()"
   ]
  },
  {
   "cell_type": "markdown",
   "metadata": {},
   "source": [
    "## Slice\n",
    "\n",
    "When working with Pandas data frames we can use normal matrix indexing to extract sub matrices - but this will be working with the underlying NumPy matrices and will strip off the Pandas row and column metadata.\n",
    "\n",
    "For example here we extract a single row array:"
   ]
  },
  {
   "cell_type": "code",
   "execution_count": 228,
   "metadata": {
    "collapsed": false
   },
   "outputs": [
    {
     "data": {
      "text/plain": [
       "array([2013, 1, 1, 533.0, 4.0, 850.0, 20.0, 'UA', 'N24211', 1714, 'LGA',\n",
       "       'IAH', 227.0, 1416, 5.0, 33.0], dtype=object)"
      ]
     },
     "execution_count": 228,
     "metadata": {},
     "output_type": "execute_result"
    }
   ],
   "source": [
    "df.values[1]"
   ]
  },
  {
   "cell_type": "markdown",
   "metadata": {},
   "source": [
    "Unless we really do not want a Pandas data frame as output we need a better way.  Pandas provides three indexers called `loc`, `iloc` and `ix`.  \n",
    "\n",
    "`iloc` allows us to index the Pandas data frame as if it was a Numpy matrix *but* we retain the column and row metadata:"
   ]
  },
  {
   "cell_type": "code",
   "execution_count": 229,
   "metadata": {
    "collapsed": false
   },
   "outputs": [
    {
     "data": {
      "text/html": [
       "<div>\n",
       "<table border=\"1\" class=\"dataframe\">\n",
       "  <thead>\n",
       "    <tr style=\"text-align: right;\">\n",
       "      <th></th>\n",
       "      <th>day</th>\n",
       "      <th>dep_time</th>\n",
       "      <th>dep_delay</th>\n",
       "    </tr>\n",
       "  </thead>\n",
       "  <tbody>\n",
       "    <tr>\n",
       "      <th>0</th>\n",
       "      <td>1</td>\n",
       "      <td>517</td>\n",
       "      <td>2</td>\n",
       "    </tr>\n",
       "    <tr>\n",
       "      <th>1</th>\n",
       "      <td>1</td>\n",
       "      <td>533</td>\n",
       "      <td>4</td>\n",
       "    </tr>\n",
       "    <tr>\n",
       "      <th>2</th>\n",
       "      <td>1</td>\n",
       "      <td>542</td>\n",
       "      <td>2</td>\n",
       "    </tr>\n",
       "  </tbody>\n",
       "</table>\n",
       "</div>"
      ],
      "text/plain": [
       "   day  dep_time  dep_delay\n",
       "0    1       517          2\n",
       "1    1       533          4\n",
       "2    1       542          2"
      ]
     },
     "execution_count": 229,
     "metadata": {},
     "output_type": "execute_result"
    }
   ],
   "source": [
    "df.iloc[0:3,2:5]"
   ]
  },
  {
   "cell_type": "markdown",
   "metadata": {},
   "source": [
    "`loc` allows us to index the data frame using matrix style indexing but using the column and row names.  In this example the row names are just the indexes of the row - so it does not look much different to the `iloc` example:"
   ]
  },
  {
   "cell_type": "code",
   "execution_count": 230,
   "metadata": {
    "collapsed": false
   },
   "outputs": [
    {
     "data": {
      "text/html": [
       "<div>\n",
       "<table border=\"1\" class=\"dataframe\">\n",
       "  <thead>\n",
       "    <tr style=\"text-align: right;\">\n",
       "      <th></th>\n",
       "      <th>year</th>\n",
       "      <th>month</th>\n",
       "      <th>day</th>\n",
       "      <th>dep_time</th>\n",
       "    </tr>\n",
       "  </thead>\n",
       "  <tbody>\n",
       "    <tr>\n",
       "      <th>0</th>\n",
       "      <td>2013</td>\n",
       "      <td>1</td>\n",
       "      <td>1</td>\n",
       "      <td>517</td>\n",
       "    </tr>\n",
       "    <tr>\n",
       "      <th>1</th>\n",
       "      <td>2013</td>\n",
       "      <td>1</td>\n",
       "      <td>1</td>\n",
       "      <td>533</td>\n",
       "    </tr>\n",
       "    <tr>\n",
       "      <th>2</th>\n",
       "      <td>2013</td>\n",
       "      <td>1</td>\n",
       "      <td>1</td>\n",
       "      <td>542</td>\n",
       "    </tr>\n",
       "    <tr>\n",
       "      <th>3</th>\n",
       "      <td>2013</td>\n",
       "      <td>1</td>\n",
       "      <td>1</td>\n",
       "      <td>544</td>\n",
       "    </tr>\n",
       "  </tbody>\n",
       "</table>\n",
       "</div>"
      ],
      "text/plain": [
       "   year  month  day  dep_time\n",
       "0  2013      1    1       517\n",
       "1  2013      1    1       533\n",
       "2  2013      1    1       542\n",
       "3  2013      1    1       544"
      ]
     },
     "execution_count": 230,
     "metadata": {},
     "output_type": "execute_result"
    }
   ],
   "source": [
    "df.loc[0:3, :'dep_time']"
   ]
  },
  {
   "cell_type": "markdown",
   "metadata": {},
   "source": [
    "`ix` allows us to mix and match styles."
   ]
  },
  {
   "cell_type": "markdown",
   "metadata": {
    "collapsed": true
   },
   "source": [
    "## Filter\n",
    "\n",
    "To filter we apply masks - just like in Numpy.  A mask can be returned by a `Seq` of boolean"
   ]
  },
  {
   "cell_type": "code",
   "execution_count": 231,
   "metadata": {
    "collapsed": false
   },
   "outputs": [
    {
     "data": {
      "text/html": [
       "<div>\n",
       "<table border=\"1\" class=\"dataframe\">\n",
       "  <thead>\n",
       "    <tr style=\"text-align: right;\">\n",
       "      <th></th>\n",
       "      <th>year</th>\n",
       "      <th>month</th>\n",
       "      <th>day</th>\n",
       "      <th>dep_time</th>\n",
       "      <th>dep_delay</th>\n",
       "      <th>arr_time</th>\n",
       "      <th>arr_delay</th>\n",
       "      <th>carrier</th>\n",
       "      <th>tailnum</th>\n",
       "      <th>flight</th>\n",
       "      <th>origin</th>\n",
       "      <th>dest</th>\n",
       "      <th>air_time</th>\n",
       "      <th>distance</th>\n",
       "      <th>hour</th>\n",
       "      <th>minute</th>\n",
       "    </tr>\n",
       "  </thead>\n",
       "  <tbody>\n",
       "    <tr>\n",
       "      <th>111446</th>\n",
       "      <td>2013</td>\n",
       "      <td>2</td>\n",
       "      <td>1</td>\n",
       "      <td>807</td>\n",
       "      <td>37</td>\n",
       "      <td>1134</td>\n",
       "      <td>34</td>\n",
       "      <td>AA</td>\n",
       "      <td>N320AA</td>\n",
       "      <td>33</td>\n",
       "      <td>JFK</td>\n",
       "      <td>LAX</td>\n",
       "      <td>347</td>\n",
       "      <td>2475</td>\n",
       "      <td>8</td>\n",
       "      <td>7</td>\n",
       "    </tr>\n",
       "    <tr>\n",
       "      <th>111516</th>\n",
       "      <td>2013</td>\n",
       "      <td>2</td>\n",
       "      <td>1</td>\n",
       "      <td>859</td>\n",
       "      <td>-1</td>\n",
       "      <td>1251</td>\n",
       "      <td>31</td>\n",
       "      <td>AA</td>\n",
       "      <td>N327AA</td>\n",
       "      <td>1</td>\n",
       "      <td>JFK</td>\n",
       "      <td>LAX</td>\n",
       "      <td>362</td>\n",
       "      <td>2475</td>\n",
       "      <td>8</td>\n",
       "      <td>59</td>\n",
       "    </tr>\n",
       "    <tr>\n",
       "      <th>111598</th>\n",
       "      <td>2013</td>\n",
       "      <td>2</td>\n",
       "      <td>1</td>\n",
       "      <td>1029</td>\n",
       "      <td>-1</td>\n",
       "      <td>1330</td>\n",
       "      <td>-10</td>\n",
       "      <td>AA</td>\n",
       "      <td>N324AA</td>\n",
       "      <td>19</td>\n",
       "      <td>JFK</td>\n",
       "      <td>LAX</td>\n",
       "      <td>344</td>\n",
       "      <td>2475</td>\n",
       "      <td>10</td>\n",
       "      <td>29</td>\n",
       "    </tr>\n",
       "    <tr>\n",
       "      <th>111664</th>\n",
       "      <td>2013</td>\n",
       "      <td>2</td>\n",
       "      <td>1</td>\n",
       "      <td>1155</td>\n",
       "      <td>-5</td>\n",
       "      <td>1511</td>\n",
       "      <td>1</td>\n",
       "      <td>AA</td>\n",
       "      <td>N329AA</td>\n",
       "      <td>3</td>\n",
       "      <td>JFK</td>\n",
       "      <td>LAX</td>\n",
       "      <td>344</td>\n",
       "      <td>2475</td>\n",
       "      <td>11</td>\n",
       "      <td>55</td>\n",
       "    </tr>\n",
       "    <tr>\n",
       "      <th>111732</th>\n",
       "      <td>2013</td>\n",
       "      <td>2</td>\n",
       "      <td>1</td>\n",
       "      <td>1342</td>\n",
       "      <td>-3</td>\n",
       "      <td>1647</td>\n",
       "      <td>-18</td>\n",
       "      <td>AA</td>\n",
       "      <td>N339AA</td>\n",
       "      <td>117</td>\n",
       "      <td>JFK</td>\n",
       "      <td>LAX</td>\n",
       "      <td>345</td>\n",
       "      <td>2475</td>\n",
       "      <td>13</td>\n",
       "      <td>42</td>\n",
       "    </tr>\n",
       "    <tr>\n",
       "      <th>111840</th>\n",
       "      <td>2013</td>\n",
       "      <td>2</td>\n",
       "      <td>1</td>\n",
       "      <td>1542</td>\n",
       "      <td>-3</td>\n",
       "      <td>1910</td>\n",
       "      <td>0</td>\n",
       "      <td>AA</td>\n",
       "      <td>N338AA</td>\n",
       "      <td>133</td>\n",
       "      <td>JFK</td>\n",
       "      <td>LAX</td>\n",
       "      <td>359</td>\n",
       "      <td>2475</td>\n",
       "      <td>15</td>\n",
       "      <td>42</td>\n",
       "    </tr>\n",
       "    <tr>\n",
       "      <th>111912</th>\n",
       "      <td>2013</td>\n",
       "      <td>2</td>\n",
       "      <td>1</td>\n",
       "      <td>1643</td>\n",
       "      <td>-2</td>\n",
       "      <td>2003</td>\n",
       "      <td>-2</td>\n",
       "      <td>AA</td>\n",
       "      <td>N319AA</td>\n",
       "      <td>181</td>\n",
       "      <td>JFK</td>\n",
       "      <td>LAX</td>\n",
       "      <td>346</td>\n",
       "      <td>2475</td>\n",
       "      <td>16</td>\n",
       "      <td>43</td>\n",
       "    </tr>\n",
       "    <tr>\n",
       "      <th>112166</th>\n",
       "      <td>2013</td>\n",
       "      <td>2</td>\n",
       "      <td>1</td>\n",
       "      <td>2106</td>\n",
       "      <td>121</td>\n",
       "      <td>2</td>\n",
       "      <td>97</td>\n",
       "      <td>AA</td>\n",
       "      <td>N336AA</td>\n",
       "      <td>21</td>\n",
       "      <td>JFK</td>\n",
       "      <td>LAX</td>\n",
       "      <td>331</td>\n",
       "      <td>2475</td>\n",
       "      <td>21</td>\n",
       "      <td>6</td>\n",
       "    </tr>\n",
       "    <tr>\n",
       "      <th>112192</th>\n",
       "      <td>2013</td>\n",
       "      <td>2</td>\n",
       "      <td>1</td>\n",
       "      <td>2219</td>\n",
       "      <td>44</td>\n",
       "      <td>121</td>\n",
       "      <td>31</td>\n",
       "      <td>AA</td>\n",
       "      <td>N320AA</td>\n",
       "      <td>185</td>\n",
       "      <td>JFK</td>\n",
       "      <td>LAX</td>\n",
       "      <td>340</td>\n",
       "      <td>2475</td>\n",
       "      <td>22</td>\n",
       "      <td>19</td>\n",
       "    </tr>\n",
       "  </tbody>\n",
       "</table>\n",
       "</div>"
      ],
      "text/plain": [
       "        year  month  day  dep_time  dep_delay  arr_time  arr_delay carrier  \\\n",
       "111446  2013      2    1       807         37      1134         34      AA   \n",
       "111516  2013      2    1       859         -1      1251         31      AA   \n",
       "111598  2013      2    1      1029         -1      1330        -10      AA   \n",
       "111664  2013      2    1      1155         -5      1511          1      AA   \n",
       "111732  2013      2    1      1342         -3      1647        -18      AA   \n",
       "111840  2013      2    1      1542         -3      1910          0      AA   \n",
       "111912  2013      2    1      1643         -2      2003         -2      AA   \n",
       "112166  2013      2    1      2106        121         2         97      AA   \n",
       "112192  2013      2    1      2219         44       121         31      AA   \n",
       "\n",
       "       tailnum  flight origin dest  air_time  distance  hour  minute  \n",
       "111446  N320AA      33    JFK  LAX       347      2475     8       7  \n",
       "111516  N327AA       1    JFK  LAX       362      2475     8      59  \n",
       "111598  N324AA      19    JFK  LAX       344      2475    10      29  \n",
       "111664  N329AA       3    JFK  LAX       344      2475    11      55  \n",
       "111732  N339AA     117    JFK  LAX       345      2475    13      42  \n",
       "111840  N338AA     133    JFK  LAX       359      2475    15      42  \n",
       "111912  N319AA     181    JFK  LAX       346      2475    16      43  \n",
       "112166  N336AA      21    JFK  LAX       331      2475    21       6  \n",
       "112192  N320AA     185    JFK  LAX       340      2475    22      19  "
      ]
     },
     "execution_count": 231,
     "metadata": {},
     "output_type": "execute_result"
    }
   ],
   "source": [
    "#df_filtered = df[]\n",
    "df.loc[(df.month == 2) & (df.day == 1) & (df.carrier == 'AA') & (df.origin == 'JFK') & (df.dest == 'LAX')]"
   ]
  },
  {
   "cell_type": "markdown",
   "metadata": {},
   "source": [
    "## Project - mutate\n",
    "\n",
    "New columns can be created by simply assigning a compatible `Seq` to the new column name:"
   ]
  },
  {
   "cell_type": "code",
   "execution_count": 232,
   "metadata": {
    "collapsed": false
   },
   "outputs": [
    {
     "data": {
      "text/html": [
       "<div>\n",
       "<table border=\"1\" class=\"dataframe\">\n",
       "  <thead>\n",
       "    <tr style=\"text-align: right;\">\n",
       "      <th></th>\n",
       "      <th>gain</th>\n",
       "      <th>air_time</th>\n",
       "    </tr>\n",
       "  </thead>\n",
       "  <tbody>\n",
       "    <tr>\n",
       "      <th>count</th>\n",
       "      <td>327346.000000</td>\n",
       "      <td>327346.000000</td>\n",
       "    </tr>\n",
       "    <tr>\n",
       "      <th>mean</th>\n",
       "      <td>-5.659779</td>\n",
       "      <td>150.686460</td>\n",
       "    </tr>\n",
       "    <tr>\n",
       "      <th>std</th>\n",
       "      <td>18.043648</td>\n",
       "      <td>93.688305</td>\n",
       "    </tr>\n",
       "    <tr>\n",
       "      <th>min</th>\n",
       "      <td>-109.000000</td>\n",
       "      <td>20.000000</td>\n",
       "    </tr>\n",
       "    <tr>\n",
       "      <th>25%</th>\n",
       "      <td>-17.000000</td>\n",
       "      <td>82.000000</td>\n",
       "    </tr>\n",
       "    <tr>\n",
       "      <th>50%</th>\n",
       "      <td>-7.000000</td>\n",
       "      <td>129.000000</td>\n",
       "    </tr>\n",
       "    <tr>\n",
       "      <th>75%</th>\n",
       "      <td>3.000000</td>\n",
       "      <td>192.000000</td>\n",
       "    </tr>\n",
       "    <tr>\n",
       "      <th>max</th>\n",
       "      <td>196.000000</td>\n",
       "      <td>695.000000</td>\n",
       "    </tr>\n",
       "  </tbody>\n",
       "</table>\n",
       "</div>"
      ],
      "text/plain": [
       "                gain       air_time\n",
       "count  327346.000000  327346.000000\n",
       "mean       -5.659779     150.686460\n",
       "std        18.043648      93.688305\n",
       "min      -109.000000      20.000000\n",
       "25%       -17.000000      82.000000\n",
       "50%        -7.000000     129.000000\n",
       "75%         3.000000     192.000000\n",
       "max       196.000000     695.000000"
      ]
     },
     "execution_count": 232,
     "metadata": {},
     "output_type": "execute_result"
    }
   ],
   "source": [
    "df['gain'] = df.arr_delay - df.dep_delay\n",
    "df.loc[:,['gain', 'air_time']].describe()"
   ]
  },
  {
   "cell_type": "markdown",
   "metadata": {},
   "source": [
    "More complex,'case-like', projections can be created.  For example if we wanted to create a 1/0 flag that identify flights that caught up on delays, i.e. postive gain:"
   ]
  },
  {
   "cell_type": "code",
   "execution_count": 233,
   "metadata": {
    "collapsed": false
   },
   "outputs": [
    {
     "data": {
      "text/html": [
       "<div>\n",
       "<table border=\"1\" class=\"dataframe\">\n",
       "  <thead>\n",
       "    <tr style=\"text-align: right;\">\n",
       "      <th></th>\n",
       "      <th>gained</th>\n",
       "      <th>gain</th>\n",
       "    </tr>\n",
       "  </thead>\n",
       "  <tbody>\n",
       "    <tr>\n",
       "      <th>count</th>\n",
       "      <td>336776.000000</td>\n",
       "      <td>327346.000000</td>\n",
       "    </tr>\n",
       "    <tr>\n",
       "      <th>mean</th>\n",
       "      <td>-9.792470</td>\n",
       "      <td>-5.659779</td>\n",
       "    </tr>\n",
       "    <tr>\n",
       "      <th>std</th>\n",
       "      <td>10.835929</td>\n",
       "      <td>18.043648</td>\n",
       "    </tr>\n",
       "    <tr>\n",
       "      <th>min</th>\n",
       "      <td>-109.000000</td>\n",
       "      <td>-109.000000</td>\n",
       "    </tr>\n",
       "    <tr>\n",
       "      <th>25%</th>\n",
       "      <td>-16.000000</td>\n",
       "      <td>-17.000000</td>\n",
       "    </tr>\n",
       "    <tr>\n",
       "      <th>50%</th>\n",
       "      <td>-7.000000</td>\n",
       "      <td>-7.000000</td>\n",
       "    </tr>\n",
       "    <tr>\n",
       "      <th>75%</th>\n",
       "      <td>0.000000</td>\n",
       "      <td>3.000000</td>\n",
       "    </tr>\n",
       "    <tr>\n",
       "      <th>max</th>\n",
       "      <td>0.000000</td>\n",
       "      <td>196.000000</td>\n",
       "    </tr>\n",
       "  </tbody>\n",
       "</table>\n",
       "</div>"
      ],
      "text/plain": [
       "              gained           gain\n",
       "count  336776.000000  327346.000000\n",
       "mean       -9.792470      -5.659779\n",
       "std        10.835929      18.043648\n",
       "min      -109.000000    -109.000000\n",
       "25%       -16.000000     -17.000000\n",
       "50%        -7.000000      -7.000000\n",
       "75%         0.000000       3.000000\n",
       "max         0.000000     196.000000"
      ]
     },
     "execution_count": 233,
     "metadata": {},
     "output_type": "execute_result"
    }
   ],
   "source": [
    "# Add new column of zeros\n",
    "df['gained'] = 0 \n",
    "# Where gain is negative set gained = 0 else gained = gain\n",
    "df.loc[df.gain < 0, 'gained'] = df.loc[df.gain < 0, 'gain']\n",
    "# Let's see if it worked\n",
    "df.loc[:,['gained','gain']].describe()"
   ]
  },
  {
   "cell_type": "markdown",
   "metadata": {},
   "source": [
    "To remove a column set subset columns:"
   ]
  },
  {
   "cell_type": "code",
   "execution_count": 248,
   "metadata": {
    "collapsed": false
   },
   "outputs": [
    {
     "name": "stdout",
     "output_type": "stream",
     "text": [
      "Before:\n",
      "Index(['year', 'month', 'day', 'dep_time', 'dep_delay', 'arr_time',\n",
      "       'arr_delay', 'carrier', 'tailnum', 'flight', 'origin', 'dest',\n",
      "       'air_time', 'distance', 'hour', 'minute', 'gain', 'gained'],\n",
      "      dtype='object')\n",
      "After:\n",
      "Index(['year', 'month', 'day', 'dep_time', 'dep_delay', 'arr_time',\n",
      "       'arr_delay', 'carrier', 'tailnum', 'flight', 'origin', 'dest',\n",
      "       'air_time', 'distance', 'hour', 'minute', 'gain'],\n",
      "      dtype='object')\n"
     ]
    }
   ],
   "source": [
    "print('Before:')\n",
    "print(df.columns)\n",
    "df2 = df.ix[:,:'gain']\n",
    "print('After:')\n",
    "print(df2.columns)\n",
    "\n",
    "# Must be an easier way !!"
   ]
  },
  {
   "cell_type": "code",
   "execution_count": null,
   "metadata": {
    "collapsed": false
   },
   "outputs": [],
   "source": [
    "df = pd.DataFrame({'AAA' : [4,5,6,7], 'BBB' : [10,20,30,40],'CCC' : [100,50,-30,-50]});\n",
    "df.ix[df.AAA > 5, 'BBB'] = -1; df"
   ]
  },
  {
   "cell_type": "code",
   "execution_count": null,
   "metadata": {
    "collapsed": true
   },
   "outputs": [],
   "source": []
  },
  {
   "cell_type": "markdown",
   "metadata": {},
   "source": [
    "## Sorting"
   ]
  },
  {
   "cell_type": "code",
   "execution_count": null,
   "metadata": {
    "collapsed": false
   },
   "outputs": [],
   "source": [
    "df2 = df.loc[(df.month == 2) & (df.day == 1) & (df.carrier == 'AA') & (df.origin == 'JFK') & (df.dest == 'LAX')]\n",
    "df2.sort_values(by=('hour'), ascending=False)"
   ]
  },
  {
   "cell_type": "code",
   "execution_count": null,
   "metadata": {
    "collapsed": false
   },
   "outputs": [],
   "source": [
    "\n"
   ]
  },
  {
   "cell_type": "markdown",
   "metadata": {},
   "source": [
    "## Summaries"
   ]
  },
  {
   "cell_type": "code",
   "execution_count": 262,
   "metadata": {
    "collapsed": false
   },
   "outputs": [
    {
     "data": {
      "text/plain": [
       "<Container object of 12 artists>"
      ]
     },
     "execution_count": 262,
     "metadata": {},
     "output_type": "execute_result"
    },
    {
     "data": {
      "image/png": "[encoded data removed]",
      "text/plain": [
       "<matplotlib.figure.Figure at 0x7f61c50e0630>"
      ]
     },
     "metadata": {},
     "output_type": "display_data"
    }
   ],
   "source": [
    "#df2 = df.ix[:,['month','dep_delay']].groupby('month').mean()\n",
    "df2 = df.groupby('month').mean()\n",
    "plt.bar(left=df2.index, height=df2.arr_delay, )"
   ]
  },
  {
   "cell_type": "markdown",
   "metadata": {},
   "source": [
    "We can aggregate over more than one dimension:"
   ]
  },
  {
   "cell_type": "code",
   "execution_count": null,
   "metadata": {
    "collapsed": false
   },
   "outputs": [],
   "source": [
    "df3 = df.groupby(['month','day']).mean()\n",
    "df3.shape()"
   ]
  },
  {
   "cell_type": "markdown",
   "metadata": {},
   "source": [
    "We can also describe our data by group:"
   ]
  },
  {
   "cell_type": "code",
   "execution_count": 260,
   "metadata": {
    "collapsed": false
   },
   "outputs": [
    {
     "data": {
      "text/html": [
       "<div>\n",
       "<table border=\"1\" class=\"dataframe\">\n",
       "  <thead>\n",
       "    <tr style=\"text-align: right;\">\n",
       "      <th></th>\n",
       "      <th>count</th>\n",
       "      <th>mean</th>\n",
       "      <th>std</th>\n",
       "      <th>min</th>\n",
       "      <th>25%</th>\n",
       "      <th>50%</th>\n",
       "      <th>75%</th>\n",
       "      <th>max</th>\n",
       "    </tr>\n",
       "    <tr>\n",
       "      <th>month</th>\n",
       "      <th></th>\n",
       "      <th></th>\n",
       "      <th></th>\n",
       "      <th></th>\n",
       "      <th></th>\n",
       "      <th></th>\n",
       "      <th></th>\n",
       "      <th></th>\n",
       "    </tr>\n",
       "  </thead>\n",
       "  <tbody>\n",
       "    <tr>\n",
       "      <th>1</th>\n",
       "      <td>26398</td>\n",
       "      <td>6.129972</td>\n",
       "      <td>40.423898</td>\n",
       "      <td>-70</td>\n",
       "      <td>-15</td>\n",
       "      <td>-3</td>\n",
       "      <td>13</td>\n",
       "      <td>1272</td>\n",
       "    </tr>\n",
       "    <tr>\n",
       "      <th>2</th>\n",
       "      <td>23611</td>\n",
       "      <td>5.613019</td>\n",
       "      <td>39.528619</td>\n",
       "      <td>-70</td>\n",
       "      <td>-15</td>\n",
       "      <td>-3</td>\n",
       "      <td>13</td>\n",
       "      <td>834</td>\n",
       "    </tr>\n",
       "    <tr>\n",
       "      <th>3</th>\n",
       "      <td>27902</td>\n",
       "      <td>5.807577</td>\n",
       "      <td>44.119192</td>\n",
       "      <td>-68</td>\n",
       "      <td>-18</td>\n",
       "      <td>-6</td>\n",
       "      <td>13</td>\n",
       "      <td>915</td>\n",
       "    </tr>\n",
       "    <tr>\n",
       "      <th>4</th>\n",
       "      <td>27564</td>\n",
       "      <td>11.176063</td>\n",
       "      <td>47.491151</td>\n",
       "      <td>-68</td>\n",
       "      <td>-15</td>\n",
       "      <td>-2</td>\n",
       "      <td>19</td>\n",
       "      <td>931</td>\n",
       "    </tr>\n",
       "    <tr>\n",
       "      <th>5</th>\n",
       "      <td>28128</td>\n",
       "      <td>3.521509</td>\n",
       "      <td>44.237613</td>\n",
       "      <td>-86</td>\n",
       "      <td>-20</td>\n",
       "      <td>-8</td>\n",
       "      <td>11</td>\n",
       "      <td>875</td>\n",
       "    </tr>\n",
       "    <tr>\n",
       "      <th>6</th>\n",
       "      <td>27075</td>\n",
       "      <td>16.481330</td>\n",
       "      <td>56.130866</td>\n",
       "      <td>-64</td>\n",
       "      <td>-15</td>\n",
       "      <td>-2</td>\n",
       "      <td>26</td>\n",
       "      <td>1127</td>\n",
       "    </tr>\n",
       "    <tr>\n",
       "      <th>7</th>\n",
       "      <td>28293</td>\n",
       "      <td>16.711307</td>\n",
       "      <td>57.117088</td>\n",
       "      <td>-66</td>\n",
       "      <td>-16</td>\n",
       "      <td>-2</td>\n",
       "      <td>27</td>\n",
       "      <td>989</td>\n",
       "    </tr>\n",
       "    <tr>\n",
       "      <th>8</th>\n",
       "      <td>28756</td>\n",
       "      <td>6.040652</td>\n",
       "      <td>42.595142</td>\n",
       "      <td>-68</td>\n",
       "      <td>-18</td>\n",
       "      <td>-5</td>\n",
       "      <td>14</td>\n",
       "      <td>490</td>\n",
       "    </tr>\n",
       "    <tr>\n",
       "      <th>9</th>\n",
       "      <td>27010</td>\n",
       "      <td>-4.018364</td>\n",
       "      <td>39.710309</td>\n",
       "      <td>-68</td>\n",
       "      <td>-23</td>\n",
       "      <td>-12</td>\n",
       "      <td>1</td>\n",
       "      <td>1007</td>\n",
       "    </tr>\n",
       "    <tr>\n",
       "      <th>10</th>\n",
       "      <td>28618</td>\n",
       "      <td>-0.167063</td>\n",
       "      <td>32.649858</td>\n",
       "      <td>-61</td>\n",
       "      <td>-18</td>\n",
       "      <td>-7</td>\n",
       "      <td>7</td>\n",
       "      <td>688</td>\n",
       "    </tr>\n",
       "    <tr>\n",
       "      <th>11</th>\n",
       "      <td>26971</td>\n",
       "      <td>0.461347</td>\n",
       "      <td>31.387406</td>\n",
       "      <td>-67</td>\n",
       "      <td>-16</td>\n",
       "      <td>-6</td>\n",
       "      <td>8</td>\n",
       "      <td>796</td>\n",
       "    </tr>\n",
       "    <tr>\n",
       "      <th>12</th>\n",
       "      <td>27020</td>\n",
       "      <td>14.870355</td>\n",
       "      <td>46.133110</td>\n",
       "      <td>-68</td>\n",
       "      <td>-11</td>\n",
       "      <td>2</td>\n",
       "      <td>25</td>\n",
       "      <td>878</td>\n",
       "    </tr>\n",
       "  </tbody>\n",
       "</table>\n",
       "</div>"
      ],
      "text/plain": [
       "       count       mean        std  min  25%  50%  75%   max\n",
       "month                                                       \n",
       "1      26398   6.129972  40.423898  -70  -15   -3   13  1272\n",
       "2      23611   5.613019  39.528619  -70  -15   -3   13   834\n",
       "3      27902   5.807577  44.119192  -68  -18   -6   13   915\n",
       "4      27564  11.176063  47.491151  -68  -15   -2   19   931\n",
       "5      28128   3.521509  44.237613  -86  -20   -8   11   875\n",
       "6      27075  16.481330  56.130866  -64  -15   -2   26  1127\n",
       "7      28293  16.711307  57.117088  -66  -16   -2   27   989\n",
       "8      28756   6.040652  42.595142  -68  -18   -5   14   490\n",
       "9      27010  -4.018364  39.710309  -68  -23  -12    1  1007\n",
       "10     28618  -0.167063  32.649858  -61  -18   -7    7   688\n",
       "11     26971   0.461347  31.387406  -67  -16   -6    8   796\n",
       "12     27020  14.870355  46.133110  -68  -11    2   25   878"
      ]
     },
     "execution_count": 260,
     "metadata": {},
     "output_type": "execute_result"
    }
   ],
   "source": [
    "df.groupby('month')['arr_delay'].describe().unstack()"
   ]
  },
  {
   "cell_type": "markdown",
   "metadata": {},
   "source": [
    "## Joins"
   ]
  },
  {
   "cell_type": "code",
   "execution_count": null,
   "metadata": {
    "collapsed": false
   },
   "outputs": [],
   "source": []
  }
 ],
 "metadata": {
  "kernelspec": {
   "display_name": "Python 3",
   "language": "python",
   "name": "python3"
  },
  "language_info": {
   "codemirror_mode": {
    "name": "ipython",
    "version": 3
   },
   "file_extension": ".py",
   "mimetype": "text/x-python",
   "name": "python",
   "nbconvert_exporter": "python",
   "pygments_lexer": "ipython3",
   "version": "3.5.1"
  }
 },
 "nbformat": 4,
 "nbformat_minor": 0
}
